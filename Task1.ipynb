{
  "cells": [
    {
      "cell_type": "markdown",
      "metadata": {
        "id": "6WYMfvCNPwpm"
      },
      "source": [
        "# Project A: Knowledge Distillation for Building Lightweight Deep Learning Models in Visual Classification Tasks"
      ]
    },
    {
      "cell_type": "code",
      "execution_count": 1,
      "metadata": {
        "id": "vA8ppgB2P0aJ"
      },
      "outputs": [],
      "source": [
        "import tensorflow.compat.v2 as tf\n",
        "import tensorflow_datasets as tfds\n",
        "from tensorflow.keras import datasets, layers, models\n",
        "from typing import Union\n",
        "import matplotlib.pyplot as plt\n",
        "import numpy as np\n",
        "\n",
        "tf.enable_v2_behavior()\n",
        "\n",
        "builder = tfds.builder('mnist')\n",
        "BATCH_SIZE = 256\n",
        "NUM_EPOCHS = 12\n",
        "NUM_CLASSES = 10  # 10 total classes."
      ]
    },
    {
      "cell_type": "markdown",
      "metadata": {
        "id": "H2EFLQROP2R7"
      },
      "source": [
        "# Data loading"
      ]
    },
    {
      "cell_type": "code",
      "execution_count": 2,
      "metadata": {
        "id": "ynByMG_UP4A4"
      },
      "outputs": [],
      "source": [
        "# Load train and test splits.\n",
        "def preprocess(x):\n",
        "  image = tf.image.convert_image_dtype(x['image'], tf.float32)\n",
        "  class_labels = tf.one_hot(x['label'], builder.info.features['label'].num_classes)\n",
        "  return image, class_labels\n",
        "\n",
        "\n",
        "mnist_train = tfds.load('mnist', split='train', shuffle_files=False).cache()\n",
        "mnist_train = mnist_train.map(preprocess)\n",
        "mnist_train = mnist_train.shuffle(builder.info.splits['train'].num_examples)\n",
        "mnist_train = mnist_train.batch(BATCH_SIZE, drop_remainder=True)\n",
        "\n",
        "mnist_test = tfds.load('mnist', split='test').cache()\n",
        "mnist_test = mnist_test.map(preprocess).batch(BATCH_SIZE)"
      ]
    },
    {
      "cell_type": "markdown",
      "metadata": {
        "id": "kAZwfvW5P63q"
      },
      "source": [
        "# Model creation"
      ]
    },
    {
      "cell_type": "code",
      "execution_count": 3,
      "metadata": {},
      "outputs": [],
      "source": [
        "#@test {\"output\": \"ignore\"}\n",
        "\n",
        "# Build CNN teacher.\n",
        "cnn_model = tf.keras.Sequential([\n",
        "\n",
        "\n",
        "# your code start from here for stpe 2\n",
        "layers.Conv2D(32, (3, 3), strides = (1,1), activation='relu', input_shape=(28, 28, 1)),\n",
        "layers.MaxPooling2D((2, 2), strides = (1,1)),\n",
        "layers.Conv2D(64, (3, 3), activation='relu'),\n",
        "layers.Flatten(),\n",
        "layers.Dropout(rate = 0.5),\n",
        "layers.Dense(128, activation='relu'),\n",
        "layers.Dropout(rate = 0.5),\n",
        "layers.Dense(10)\n",
        "])\n",
        "\n",
        "# Build fully connected student.\n",
        "fc_model = tf.keras.Sequential([\n",
        "\n",
        "# your code start from here for step 2\n",
        "layers.Flatten(),\n",
        "layers.Dense(784, activation='relu'),\n",
        "layers.Dense(784, activation='relu'),\n",
        "layers.Dense(10)\n",
        "])"
      ]
    },
    {
      "cell_type": "code",
      "execution_count": 4,
      "metadata": {},
      "outputs": [],
      "source": [
        "# print(\"Num GPUs Available: \", len(tf.config.experimental.list_physical_devices('Cuda')))"
      ]
    },
    {
      "cell_type": "code",
      "execution_count": 4,
      "metadata": {},
      "outputs": [
        {
          "name": "stdout",
          "output_type": "stream",
          "text": [
            "Model: \"sequential\"\n",
            "_________________________________________________________________\n",
            " Layer (type)                Output Shape              Param #   \n",
            "=================================================================\n",
            " conv2d (Conv2D)             (None, 26, 26, 32)        320       \n",
            "                                                                 \n",
            " max_pooling2d (MaxPooling2  (None, 25, 25, 32)        0         \n",
            " D)                                                              \n",
            "                                                                 \n",
            " conv2d_1 (Conv2D)           (None, 23, 23, 64)        18496     \n",
            "                                                                 \n",
            " flatten (Flatten)           (None, 33856)             0         \n",
            "                                                                 \n",
            " dropout (Dropout)           (None, 33856)             0         \n",
            "                                                                 \n",
            " dense (Dense)               (None, 128)               4333696   \n",
            "                                                                 \n",
            " dropout_1 (Dropout)         (None, 128)               0         \n",
            "                                                                 \n",
            " dense_1 (Dense)             (None, 10)                1290      \n",
            "                                                                 \n",
            "=================================================================\n",
            "Total params: 4353802 (16.61 MB)\n",
            "Trainable params: 4353802 (16.61 MB)\n",
            "Non-trainable params: 0 (0.00 Byte)\n",
            "_________________________________________________________________\n"
          ]
        }
      ],
      "source": [
        "cnn_model.summary()"
      ]
    },
    {
      "cell_type": "code",
      "execution_count": 5,
      "metadata": {},
      "outputs": [
        {
          "name": "stdout",
          "output_type": "stream",
          "text": [
            "Model: \"sequential_1\"\n",
            "_________________________________________________________________\n"
          ]
        },
        {
          "name": "stdout",
          "output_type": "stream",
          "text": [
            " Layer (type)                Output Shape              Param #   \n",
            "=================================================================\n",
            " flatten_1 (Flatten)         (256, 784)                0         \n",
            "                                                                 \n",
            " dense_2 (Dense)             (256, 784)                615440    \n",
            "                                                                 \n",
            " dense_3 (Dense)             (256, 784)                615440    \n",
            "                                                                 \n",
            " dense_4 (Dense)             (256, 10)                 7850      \n",
            "                                                                 \n",
            "=================================================================\n",
            "Total params: 1238730 (4.73 MB)\n",
            "Trainable params: 1238730 (4.73 MB)\n",
            "Non-trainable params: 0 (0.00 Byte)\n",
            "_________________________________________________________________\n"
          ]
        }
      ],
      "source": [
        "fc_model.build(input_shape=(256,28,28,1))\n",
        "fc_model.summary()"
      ]
    },
    {
      "cell_type": "markdown",
      "metadata": {
        "id": "8JWGucyrQGav"
      },
      "source": [
        "# Teacher loss function"
      ]
    },
    {
      "cell_type": "code",
      "execution_count": 9,
      "metadata": {
        "id": "DhzBP6ZLQJ57"
      },
      "outputs": [],
      "source": [
        "@tf.function\n",
        "def compute_teacher_loss(images, labels):\n",
        "  \"\"\"Compute subclass knowledge distillation teacher loss for given images\n",
        "     and labels.\n",
        "\n",
        "  Args:\n",
        "    images: Tensor representing a batch of images.\n",
        "    labels: Tensor representing a batch of labels.\n",
        "\n",
        "  Returns:\n",
        "    Scalar loss Tensor.\n",
        "  \"\"\"\n",
        "  class_logits = cnn_model(images, training=True)\n",
        "  # print(subclass_logits)\n",
        "  \n",
        "  # Compute cross-entropy loss for subclasses.\n",
        "\n",
        "  # your code start from here for step 3\n",
        "  cross_entropy_loss_value = tf.reduce_mean(tf.nn.softmax_cross_entropy_with_logits(labels, class_logits))\n",
        "  # cross_entropy_loss_value = cross_entropy_loss_value(labels, subclass_logits)\n",
        "\n",
        "\n",
        "\n",
        "  return cross_entropy_loss_value"
      ]
    },
    {
      "cell_type": "markdown",
      "metadata": {
        "id": "JS8xkuH0QbOS"
      },
      "source": [
        "# Student loss function"
      ]
    },
    {
      "cell_type": "code",
      "execution_count": 10,
      "metadata": {
        "id": "lDKia4gPQMIr"
      },
      "outputs": [],
      "source": [
        "#@test {\"output\": \"ignore\"}\n",
        "\n",
        "# Hyperparameters for distillation (need to be tuned).\n",
        "ALPHA = 0.5 # task balance between cross-entropy and distillation loss\n",
        "DISTILLATION_TEMPERATURE = 4. #temperature hyperparameter\n",
        "\n",
        "def distillation_loss(teacher_logits: tf.Tensor, student_logits: tf.Tensor,\n",
        "                      temperature: Union[float, tf.Tensor]):\n",
        "  \"\"\"Compute distillation loss.\n",
        "\n",
        "  This function computes cross entropy between softened logits and softened\n",
        "  targets. The resulting loss is scaled by the squared temperature so that\n",
        "  the gradient magnitude remains approximately constant as the temperature is\n",
        "  changed. For reference, see Hinton et al., 2014, \"Distilling the knowledge in\n",
        "  a neural network.\"\n",
        "\n",
        "  Args:\n",
        "    teacher_logits: A Tensor of logits provided by the teacher.\n",
        "    student_logits: A Tensor of logits provided by the student, of the same\n",
        "      shape as `teacher_logits`.\n",
        "    temperature: Temperature to use for distillation.\n",
        "\n",
        "  Returns:\n",
        "    A scalar Tensor containing the distillation loss.\n",
        "  \"\"\"\n",
        " # your code start from here for step 3\n",
        "  soft_targets = tf.nn.softmax(teacher_logits / temperature)\n",
        "  # print(\"soft targets = \", soft_targets)\n",
        "\n",
        "  return tf.reduce_mean(\n",
        "      tf.nn.softmax_cross_entropy_with_logits(\n",
        "          soft_targets, student_logits / temperature)) * temperature ** 2\n",
        "\n",
        "def compute_student_loss(images, labels, distillation_temperature = DISTILLATION_TEMPERATURE, alpha = ALPHA):\n",
        "  \"\"\"Compute subclass knowledge distillation student loss for given images\n",
        "     and labels.\n",
        "\n",
        "  Args:\n",
        "    images: Tensor representing a batch of images.\n",
        "    labels: Tensor representing a batch of labels.\n",
        "\n",
        "  Returns:\n",
        "    Scalar loss Tensor.\n",
        "  \"\"\"\n",
        "  student_class_logits = fc_model(images, training=True)\n",
        "  # print(\"student_subclass_logits = \", student_subclass_logits)\n",
        "\n",
        "  # Compute subclass distillation loss between student subclass logits and\n",
        "  # softened teacher subclass targets probabilities.\n",
        "\n",
        "  # your code start from here for step 3\n",
        "\n",
        "  teacher_class_logits = cnn_model(images, training=False)\n",
        "  distillation_loss_value = distillation_loss(teacher_logits = teacher_class_logits, student_logits = student_class_logits, temperature = distillation_temperature)\n",
        "\n",
        "  # print(\"distillation_loss = \", distillation_loss_value)  \n",
        "  # Compute cross-entropy loss with hard targets.\n",
        "\n",
        "  # your code start from here for step 3\n",
        "\n",
        "  cross_entropy_loss_value = tf.reduce_mean(tf.nn.softmax_cross_entropy_with_logits(labels, student_class_logits))\n",
        "  # print(\"ce loss = \", cross_entropy_loss_value)\n",
        "  # cross_entropy_loss_value = cross_entropy_loss_value(labels, student_subclass_logits)\n",
        "\n",
        "  # return alpha * (distillation_loss_value + cross_entropy_loss_value)\n",
        "  return alpha * cross_entropy_loss_value + distillation_loss_value"
      ]
    },
    {
      "cell_type": "code",
      "execution_count": 11,
      "metadata": {},
      "outputs": [
        {
          "name": "stdout",
          "output_type": "stream",
          "text": [
            "total student loss =  tf.Tensor(49.30871, shape=(), dtype=float32)\n"
          ]
        }
      ],
      "source": [
        "images = tf.ones((256,28,28,1))\n",
        "labels = tf.ones((256,10))\n",
        "\n",
        "loss = compute_student_loss(images, labels, distillation_temperature=DISTILLATION_TEMPERATURE, alpha = ALPHA)\n",
        "print (\"total student loss = \", loss)"
      ]
    },
    {
      "cell_type": "markdown",
      "metadata": {
        "id": "RJ1uyvurQ3w4"
      },
      "source": [
        "# Train and evaluation"
      ]
    },
    {
      "cell_type": "code",
      "execution_count": 13,
      "metadata": {},
      "outputs": [],
      "source": [
        "@tf.function\n",
        "def compute_num_correct(model, images, labels):\n",
        "  \"\"\"Compute number of correctly classified images in a batch.\n",
        "\n",
        "  Args:\n",
        "    model: Instance of tf.keras.Model.\n",
        "    images: Tensor representing a batch of images.\n",
        "    labels: Tensor representing a batch of labels.\n",
        "\n",
        "  Returns:\n",
        "    Number of correctly classified images.\n",
        "  \"\"\"\n",
        "  class_logits = model(images, training=False)\n",
        "  return tf.reduce_sum(\n",
        "      tf.cast(tf.math.equal(tf.argmax(class_logits, -1), tf.argmax(labels, -1)),\n",
        "              tf.float32)), tf.argmax(class_logits, -1), tf.argmax(labels, -1)\n",
        "\n",
        "\n",
        "def train_and_evaluate(model, alpha, temperature, epochs, l):\n",
        "  \"\"\"Perform training and evaluation for a given model.\n",
        "\n",
        "  Args:\n",
        "    model: Instance of tf.keras.Model.\n",
        "    compute_loss_fn: A function that computes the training loss given the\n",
        "      images, and labels.\n",
        "  \"\"\"\n",
        "\n",
        "  # your code start from here for step 4\n",
        "  optimizer = tf.keras.optimizers.Adam(learning_rate = 0.001)\n",
        "  train_acc, test_acc = [], []\n",
        "  if l == \"teacher\":\n",
        "    print(\"l = \", l)\n",
        "  elif l == \"student KL\":\n",
        "    print(\"l = \", l)\n",
        "  elif l == \"student\":\n",
        "    print(\"l = \", l)  \n",
        "\n",
        "  for epoch in range(1, epochs + 1):\n",
        "    # Run training.\n",
        "  \n",
        "    num_correct_train = 0\n",
        "    num_total_train = builder.info.splits['train'].num_examples\n",
        "    for images, labels in mnist_train:\n",
        "      with tf.GradientTape() as tape:\n",
        "         # your code start from here for step 4\n",
        "        if l == \"teacher\":\n",
        "          loss_value = compute_teacher_loss(images, labels)\n",
        "        elif l == \"student KL\":\n",
        "          loss_value = compute_student_loss(images, labels, distillation_temperature = temperature, alpha = alpha)\n",
        "        elif l == \"student\":\n",
        "          loss_value = compute_plain_cross_entropy_loss(images, labels)\n",
        "\n",
        "\n",
        "      grads = tape.gradient(loss_value, model.trainable_variables)\n",
        "      optimizer.apply_gradients(zip(grads, model.trainable_variables))\n",
        "      num_correct_train += compute_num_correct(model, images, labels)[0]\n",
        "    \n",
        "    # Run evaluation for test set\n",
        "    num_correct_test = 0\n",
        "    num_total_test = builder.info.splits['test'].num_examples\n",
        "    for images, labels in mnist_test:\n",
        "      # your code start from here for step 4\n",
        "      num_correct_test += compute_num_correct(model, images, labels)[0]\n",
        "    \n",
        "    train_ac = num_correct_train / num_total_train * 100\n",
        "    test_ac = num_correct_test / num_total_test * 100\n",
        "    train_acc.append(train_ac)\n",
        "    test_acc.append(test_ac)\n",
        "    # print(\"Epoch = {} : Training Loss = {}, Training Accuracy = {:.2f}, Test Accuracy = {:.2f}\".format(epoch, loss_value, num_correct_train / num_total_train * 100, num_correct_test / num_total_test * 100 ))\n",
        "    print(\"Epoch = {} : Training Loss = {}, Training Accuracy = {:.2f}, Test Accuracy = {:.2f}\".format(epoch, loss_value, train_ac, test_ac ))\n",
        "\n",
        "  \n",
        "  return train_acc, test_acc"
      ]
    },
    {
      "cell_type": "markdown",
      "metadata": {
        "id": "NQL1lJdaRPT1"
      },
      "source": [
        "# Training models"
      ]
    },
    {
      "cell_type": "code",
      "execution_count": 14,
      "metadata": {},
      "outputs": [
        {
          "name": "stdout",
          "output_type": "stream",
          "text": [
            "l =  teacher\n",
            "Epoch = 1 : Training Loss = 0.07455503940582275, Training Accuracy = 95.61, Test Accuracy = 98.23\n",
            "Epoch = 2 : Training Loss = 0.08727464824914932, Training Accuracy = 98.59, Test Accuracy = 98.54\n",
            "Epoch = 3 : Training Loss = 0.12983444333076477, Training Accuracy = 98.92, Test Accuracy = 98.74\n",
            "Epoch = 4 : Training Loss = 0.06662026792764664, Training Accuracy = 99.19, Test Accuracy = 98.98\n",
            "Epoch = 5 : Training Loss = 0.020711980760097504, Training Accuracy = 99.35, Test Accuracy = 99.03\n",
            "Epoch = 6 : Training Loss = 0.06182476133108139, Training Accuracy = 99.46, Test Accuracy = 99.13\n",
            "Epoch = 7 : Training Loss = 0.030532781034708023, Training Accuracy = 99.51, Test Accuracy = 99.05\n",
            "Epoch = 8 : Training Loss = 0.01377024594694376, Training Accuracy = 99.60, Test Accuracy = 99.19\n",
            "Epoch = 9 : Training Loss = 0.035077422857284546, Training Accuracy = 99.65, Test Accuracy = 99.12\n",
            "Epoch = 10 : Training Loss = 0.04272634536027908, Training Accuracy = 99.68, Test Accuracy = 99.14\n",
            "Epoch = 11 : Training Loss = 0.03297063335776329, Training Accuracy = 99.71, Test Accuracy = 99.20\n",
            "Epoch = 12 : Training Loss = 0.016480889171361923, Training Accuracy = 99.72, Test Accuracy = 99.18\n"
          ]
        }
      ],
      "source": [
        "# your code start from here for step 5 \n",
        "teacher_train_acc, teacher_test_acc =  train_and_evaluate(cnn_model, alpha = ALPHA, temperature= DISTILLATION_TEMPERATURE, epochs = NUM_EPOCHS, l = \"teacher\")"
      ]
    },
    {
      "cell_type": "code",
      "execution_count": 16,
      "metadata": {},
      "outputs": [
        {
          "name": "stdout",
          "output_type": "stream",
          "text": [
            "l =  student KL\n",
            "Epoch = 1 : Training Loss = 7.159849643707275, Training Accuracy = 92.66, Test Accuracy = 96.63\n",
            "Epoch = 2 : Training Loss = 6.4628777503967285, Training Accuracy = 97.56, Test Accuracy = 97.75\n",
            "Epoch = 3 : Training Loss = 6.970590591430664, Training Accuracy = 98.58, Test Accuracy = 98.17\n",
            "Epoch = 4 : Training Loss = 6.536501884460449, Training Accuracy = 99.09, Test Accuracy = 98.41\n",
            "Epoch = 5 : Training Loss = 5.900366306304932, Training Accuracy = 99.33, Test Accuracy = 98.44\n",
            "Epoch = 6 : Training Loss = 4.819547176361084, Training Accuracy = 99.48, Test Accuracy = 98.58\n",
            "Epoch = 7 : Training Loss = 6.1364336013793945, Training Accuracy = 99.61, Test Accuracy = 98.67\n",
            "Epoch = 8 : Training Loss = 5.3306732177734375, Training Accuracy = 99.64, Test Accuracy = 98.63\n",
            "Epoch = 9 : Training Loss = 6.0298333168029785, Training Accuracy = 99.70, Test Accuracy = 98.76\n",
            "Epoch = 10 : Training Loss = 5.6296281814575195, Training Accuracy = 99.69, Test Accuracy = 98.69\n",
            "Epoch = 11 : Training Loss = 6.368635654449463, Training Accuracy = 99.72, Test Accuracy = 98.77\n",
            "Epoch = 12 : Training Loss = 6.131488800048828, Training Accuracy = 99.73, Test Accuracy = 98.82\n"
          ]
        }
      ],
      "source": [
        "student_train_acc_kl, student_test_acc_kl =  train_and_evaluate(fc_model, alpha = ALPHA, temperature= DISTILLATION_TEMPERATURE, epochs = NUM_EPOCHS, l = \"student KL\")"
      ]
    },
    {
      "cell_type": "code",
      "execution_count": 17,
      "metadata": {},
      "outputs": [
        {
          "data": {
            "image/png": "[encoded data removed]",
            "text/plain": [
              "<Figure size 720x720 with 2 Axes>"
            ]
          },
          "metadata": {
            "needs_background": "light"
          },
          "output_type": "display_data"
        }
      ],
      "source": [
        "import matplotlib.pyplot as plt\n",
        "import numpy as np\n",
        "\n",
        "plt.figure(figsize = (10,10))\n",
        "plt.subplot(2,1,1)\n",
        "plt.title(\"Training and Test accuracies for Teacher Model\")\n",
        "plt.plot(range(1, NUM_EPOCHS + 1), teacher_train_acc, label = \"Training accuracy\")\n",
        "plt.plot(range(1, NUM_EPOCHS + 1), teacher_test_acc, label = \"Test accuracy\")\n",
        "plt.xlabel(\"Epochs\")\n",
        "plt.ylabel(\"Accuracy\")\n",
        "plt.legend(loc = 'best')\n",
        "# plt.show()\n",
        "\n",
        "plt.subplot(2,1,2)\n",
        "plt.title(\"Training and Test accuracies for Student Model\")\n",
        "plt.plot(range(1, NUM_EPOCHS + 1), student_train_acc_kl, label = \"Training accuracy\")\n",
        "plt.plot(range(1, NUM_EPOCHS + 1), student_test_acc_kl, label = \"Test accuracy\")\n",
        "plt.xlabel(\"Epochs\")\n",
        "plt.ylabel(\"Accuracy\")\n",
        "plt.legend(loc = 'best')\n",
        "plt.show()"
      ]
    },
    {
      "cell_type": "markdown",
      "metadata": {
        "id": "sj1N38fnRTNB"
      },
      "source": [
        "# Test accuracy vs. tempreture curve"
      ]
    },
    {
      "cell_type": "code",
      "execution_count": 19,
      "metadata": {
        "id": "gX4dbazrRWIz"
      },
      "outputs": [
        {
          "name": "stdout",
          "output_type": "stream",
          "text": [
            "l =  student\n",
            "Epoch = 1 : Training Loss = 0.005609637126326561, Training Accuracy = 99.61, Test Accuracy = 98.49\n",
            "Epoch = 2 : Training Loss = 0.03600294142961502, Training Accuracy = 99.62, Test Accuracy = 98.29\n",
            "Epoch = 3 : Training Loss = 0.008717347867786884, Training Accuracy = 99.70, Test Accuracy = 98.27\n",
            "Epoch = 4 : Training Loss = 0.013433278538286686, Training Accuracy = 99.74, Test Accuracy = 98.47\n",
            "Epoch = 5 : Training Loss = 0.016659235581755638, Training Accuracy = 99.78, Test Accuracy = 98.34\n",
            "Epoch = 6 : Training Loss = 0.02945355325937271, Training Accuracy = 99.77, Test Accuracy = 98.47\n",
            "Epoch = 7 : Training Loss = 0.008130431175231934, Training Accuracy = 99.76, Test Accuracy = 98.39\n",
            "Epoch = 8 : Training Loss = 0.0330267958343029, Training Accuracy = 99.77, Test Accuracy = 98.35\n",
            "Epoch = 9 : Training Loss = 0.012216020375490189, Training Accuracy = 99.76, Test Accuracy = 98.28\n",
            "Epoch = 10 : Training Loss = 0.007608744781464338, Training Accuracy = 99.78, Test Accuracy = 98.50\n",
            "Epoch = 11 : Training Loss = 0.023043835535645485, Training Accuracy = 99.79, Test Accuracy = 98.67\n",
            "Epoch = 12 : Training Loss = 0.02927801012992859, Training Accuracy = 99.78, Test Accuracy = 98.54\n",
            "l =  student\n",
            "Epoch = 1 : Training Loss = 0.19010022282600403, Training Accuracy = 99.78, Test Accuracy = 98.65\n",
            "Epoch = 2 : Training Loss = 0.18727940320968628, Training Accuracy = 99.77, Test Accuracy = 98.63\n",
            "Epoch = 3 : Training Loss = 0.21467295289039612, Training Accuracy = 99.78, Test Accuracy = 98.67\n",
            "Epoch = 4 : Training Loss = 0.20508337020874023, Training Accuracy = 99.78, Test Accuracy = 98.65\n",
            "Epoch = 5 : Training Loss = 0.19305913150310516, Training Accuracy = 99.79, Test Accuracy = 98.75\n",
            "Epoch = 6 : Training Loss = 0.2105536162853241, Training Accuracy = 99.80, Test Accuracy = 98.91\n",
            "Epoch = 7 : Training Loss = 0.3275955021381378, Training Accuracy = 99.79, Test Accuracy = 98.63\n",
            "Epoch = 8 : Training Loss = 0.20649567246437073, Training Accuracy = 99.78, Test Accuracy = 98.75\n",
            "Epoch = 9 : Training Loss = 0.15096911787986755, Training Accuracy = 99.79, Test Accuracy = 98.80\n",
            "Epoch = 10 : Training Loss = 0.18730218708515167, Training Accuracy = 99.80, Test Accuracy = 98.77\n",
            "Epoch = 11 : Training Loss = 0.24212424457073212, Training Accuracy = 99.80, Test Accuracy = 98.71\n",
            "Epoch = 12 : Training Loss = 0.15967339277267456, Training Accuracy = 99.79, Test Accuracy = 98.73\n",
            "l =  student\n",
            "Epoch = 1 : Training Loss = 5.8610029220581055, Training Accuracy = 99.78, Test Accuracy = 98.77\n",
            "Epoch = 2 : Training Loss = 6.229011535644531, Training Accuracy = 99.80, Test Accuracy = 98.84\n",
            "Epoch = 3 : Training Loss = 5.511401653289795, Training Accuracy = 99.79, Test Accuracy = 98.90\n",
            "Epoch = 4 : Training Loss = 5.486866474151611, Training Accuracy = 99.80, Test Accuracy = 98.81\n",
            "Epoch = 5 : Training Loss = 6.055063724517822, Training Accuracy = 99.81, Test Accuracy = 98.91\n",
            "Epoch = 6 : Training Loss = 6.254183769226074, Training Accuracy = 99.80, Test Accuracy = 98.81\n",
            "Epoch = 7 : Training Loss = 5.796874523162842, Training Accuracy = 99.80, Test Accuracy = 98.86\n",
            "Epoch = 8 : Training Loss = 5.650109767913818, Training Accuracy = 99.80, Test Accuracy = 98.84\n",
            "Epoch = 9 : Training Loss = 5.665526390075684, Training Accuracy = 99.81, Test Accuracy = 98.86\n",
            "Epoch = 10 : Training Loss = 5.944075107574463, Training Accuracy = 99.81, Test Accuracy = 98.89\n",
            "Epoch = 11 : Training Loss = 6.356184959411621, Training Accuracy = 99.80, Test Accuracy = 98.91\n",
            "Epoch = 12 : Training Loss = 5.488854885101318, Training Accuracy = 99.81, Test Accuracy = 98.91\n",
            "l =  student\n",
            "Epoch = 1 : Training Loss = 516.1602783203125, Training Accuracy = 99.79, Test Accuracy = 98.91\n",
            "Epoch = 2 : Training Loss = 522.1342163085938, Training Accuracy = 99.79, Test Accuracy = 98.86\n",
            "Epoch = 3 : Training Loss = 517.2095947265625, Training Accuracy = 99.81, Test Accuracy = 98.98\n",
            "Epoch = 4 : Training Loss = 518.5650634765625, Training Accuracy = 99.79, Test Accuracy = 98.96\n",
            "Epoch = 5 : Training Loss = 520.9873657226562, Training Accuracy = 99.80, Test Accuracy = 98.95\n",
            "Epoch = 6 : Training Loss = 521.509521484375, Training Accuracy = 99.81, Test Accuracy = 98.91\n",
            "Epoch = 7 : Training Loss = 519.8535766601562, Training Accuracy = 99.80, Test Accuracy = 98.96\n",
            "Epoch = 8 : Training Loss = 520.1714477539062, Training Accuracy = 99.81, Test Accuracy = 98.99\n",
            "Epoch = 9 : Training Loss = 520.3343505859375, Training Accuracy = 99.82, Test Accuracy = 98.91\n",
            "Epoch = 10 : Training Loss = 517.7855834960938, Training Accuracy = 99.81, Test Accuracy = 98.98\n",
            "Epoch = 11 : Training Loss = 519.1383666992188, Training Accuracy = 99.81, Test Accuracy = 98.89\n",
            "Epoch = 12 : Training Loss = 526.1934814453125, Training Accuracy = 99.82, Test Accuracy = 98.95\n",
            "l =  student\n",
            "Epoch = 1 : Training Loss = 2298.379150390625, Training Accuracy = 99.82, Test Accuracy = 98.99\n",
            "Epoch = 2 : Training Loss = 2296.93115234375, Training Accuracy = 99.82, Test Accuracy = 98.96\n",
            "Epoch = 3 : Training Loss = 2294.48095703125, Training Accuracy = 99.82, Test Accuracy = 98.96\n",
            "Epoch = 4 : Training Loss = 2296.64794921875, Training Accuracy = 99.82, Test Accuracy = 98.89\n",
            "Epoch = 5 : Training Loss = 2296.762939453125, Training Accuracy = 99.82, Test Accuracy = 98.98\n",
            "Epoch = 6 : Training Loss = 2297.329833984375, Training Accuracy = 99.83, Test Accuracy = 98.96\n",
            "Epoch = 7 : Training Loss = 2296.71728515625, Training Accuracy = 99.82, Test Accuracy = 99.02\n",
            "Epoch = 8 : Training Loss = 2296.298583984375, Training Accuracy = 99.83, Test Accuracy = 98.99\n",
            "Epoch = 9 : Training Loss = 2297.203125, Training Accuracy = 99.82, Test Accuracy = 98.96\n",
            "Epoch = 10 : Training Loss = 2295.078857421875, Training Accuracy = 99.83, Test Accuracy = 98.95\n",
            "Epoch = 11 : Training Loss = 2294.848876953125, Training Accuracy = 99.82, Test Accuracy = 98.93\n",
            "Epoch = 12 : Training Loss = 2299.1552734375, Training Accuracy = 99.82, Test Accuracy = 98.92\n",
            "l =  student\n",
            "Epoch = 1 : Training Loss = 9376.9111328125, Training Accuracy = 99.82, Test Accuracy = 98.96\n",
            "Epoch = 2 : Training Loss = 9373.734375, Training Accuracy = 99.83, Test Accuracy = 98.93\n",
            "Epoch = 3 : Training Loss = 9378.828125, Training Accuracy = 99.83, Test Accuracy = 99.00\n",
            "Epoch = 4 : Training Loss = 9378.5205078125, Training Accuracy = 99.83, Test Accuracy = 99.02\n",
            "Epoch = 5 : Training Loss = 9379.248046875, Training Accuracy = 99.83, Test Accuracy = 98.98\n",
            "Epoch = 6 : Training Loss = 9377.103515625, Training Accuracy = 99.83, Test Accuracy = 98.99\n",
            "Epoch = 7 : Training Loss = 9375.400390625, Training Accuracy = 99.83, Test Accuracy = 99.00\n",
            "Epoch = 8 : Training Loss = 9376.263671875, Training Accuracy = 99.83, Test Accuracy = 98.98\n",
            "Epoch = 9 : Training Loss = 9377.359375, Training Accuracy = 99.83, Test Accuracy = 98.97\n",
            "Epoch = 10 : Training Loss = 9376.6279296875, Training Accuracy = 99.83, Test Accuracy = 98.92\n",
            "Epoch = 11 : Training Loss = 9373.294921875, Training Accuracy = 99.83, Test Accuracy = 98.92\n",
            "Epoch = 12 : Training Loss = 9373.548828125, Training Accuracy = 99.83, Test Accuracy = 98.99\n"
          ]
        },
        {
          "data": {
            "image/png": "[encoded data removed]",
            "text/plain": [
              "<Figure size 720x720 with 1 Axes>"
            ]
          },
          "metadata": {
            "needs_background": "light"
          },
          "output_type": "display_data"
        }
      ],
      "source": [
        "# your code start from here for step 6\n",
        "temperatures = [1, 2, 4, 16, 32, 64]\n",
        "ALPHA = 0.5\n",
        "plt.figure(figsize = (10, 10))\n",
        "for i, temp in enumerate(temperatures):\n",
        "    print(\"\\n For Temperature = {}\".formt(temp))\n",
        "    _ , student_test_acc =  train_and_evaluate(fc_model, alpha = ALPHA, temperature= temp, epochs = NUM_EPOCHS, l = \"student KL\") \n",
        "    plt.title(\"Test Accuracies vs Temperature Curve for Student Model\")\n",
        "    plt.plot(range(1, NUM_EPOCHS + 1), student_test_acc, label = \"Temperature = {}\".format(temp))\n",
        "    plt.xlabel(\"Epochs\")\n",
        "    plt.ylabel(\"Test Accuracy\")\n",
        "    plt.legend(loc = 'best')\n",
        "plt.show()"
      ]
    },
    {
      "cell_type": "markdown",
      "metadata": {},
      "source": [
        "### Training Student Using T = 64"
      ]
    },
    {
      "cell_type": "code",
      "execution_count": 18,
      "metadata": {},
      "outputs": [
        {
          "name": "stdout",
          "output_type": "stream",
          "text": [
            "l =  student KL\n",
            "Epoch = 1 : Training Loss = 9381.478515625, Training Accuracy = 99.62, Test Accuracy = 98.76\n",
            "Epoch = 2 : Training Loss = 9381.7294921875, Training Accuracy = 99.62, Test Accuracy = 98.86\n",
            "Epoch = 3 : Training Loss = 9381.5732421875, Training Accuracy = 99.64, Test Accuracy = 98.77\n",
            "Epoch = 4 : Training Loss = 9384.2744140625, Training Accuracy = 99.68, Test Accuracy = 98.89\n",
            "Epoch = 5 : Training Loss = 9382.2353515625, Training Accuracy = 99.70, Test Accuracy = 98.86\n",
            "Epoch = 6 : Training Loss = 9383.3251953125, Training Accuracy = 99.70, Test Accuracy = 98.93\n",
            "Epoch = 7 : Training Loss = 9380.8232421875, Training Accuracy = 99.73, Test Accuracy = 98.92\n",
            "Epoch = 8 : Training Loss = 9379.794921875, Training Accuracy = 99.73, Test Accuracy = 98.95\n",
            "Epoch = 9 : Training Loss = 9377.91796875, Training Accuracy = 99.74, Test Accuracy = 98.94\n",
            "Epoch = 10 : Training Loss = 9381.6796875, Training Accuracy = 99.75, Test Accuracy = 98.98\n",
            "Epoch = 11 : Training Loss = 9385.5576171875, Training Accuracy = 99.76, Test Accuracy = 98.94\n",
            "Epoch = 12 : Training Loss = 9383.95703125, Training Accuracy = 99.76, Test Accuracy = 98.95\n"
          ]
        }
      ],
      "source": [
        "student_train_acc_kl, student_test_acc_kl =  train_and_evaluate(fc_model, alpha = ALPHA, temperature= 64, epochs = NUM_EPOCHS, l = \"student KL\")"
      ]
    },
    {
      "cell_type": "markdown",
      "metadata": {
        "id": "WNrH_1emRbGA"
      },
      "source": [
        "# Train student from scratch"
      ]
    },
    {
      "cell_type": "code",
      "execution_count": 19,
      "metadata": {
        "id": "HjospsxIRbQ6"
      },
      "outputs": [
        {
          "name": "stdout",
          "output_type": "stream",
          "text": [
            "Model: \"sequential_2\"\n",
            "_________________________________________________________________\n",
            " Layer (type)                Output Shape              Param #   \n",
            "=================================================================\n",
            " flatten_2 (Flatten)         (256, 784)                0         \n",
            "                                                                 \n",
            " dense_5 (Dense)             (256, 784)                615440    \n",
            "                                                                 \n",
            " dense_6 (Dense)             (256, 784)                615440    \n",
            "                                                                 \n",
            " dense_7 (Dense)             (256, 10)                 7850      \n",
            "                                                                 \n",
            "=================================================================\n",
            "Total params: 1238730 (4.73 MB)\n",
            "Trainable params: 1238730 (4.73 MB)\n",
            "Non-trainable params: 0 (0.00 Byte)\n",
            "_________________________________________________________________\n"
          ]
        },
        {
          "name": "stdout",
          "output_type": "stream",
          "text": [
            "l =  student\n",
            "Epoch = 1 : Training Loss = 0.10781270265579224, Training Accuracy = 94.04, Test Accuracy = 96.83\n",
            "Epoch = 2 : Training Loss = 0.05858705937862396, Training Accuracy = 98.03, Test Accuracy = 97.55\n",
            "Epoch = 3 : Training Loss = 0.08835543692111969, Training Accuracy = 98.86, Test Accuracy = 97.63\n",
            "Epoch = 4 : Training Loss = 0.05868011713027954, Training Accuracy = 99.32, Test Accuracy = 97.70\n",
            "Epoch = 5 : Training Loss = 0.06349708139896393, Training Accuracy = 99.54, Test Accuracy = 98.15\n",
            "Epoch = 6 : Training Loss = 0.023401780053973198, Training Accuracy = 99.64, Test Accuracy = 97.78\n",
            "Epoch = 7 : Training Loss = 0.009134471416473389, Training Accuracy = 99.72, Test Accuracy = 97.92\n",
            "Epoch = 8 : Training Loss = 0.015527798794209957, Training Accuracy = 99.72, Test Accuracy = 98.14\n",
            "Epoch = 9 : Training Loss = 0.0017715629655867815, Training Accuracy = 99.76, Test Accuracy = 98.23\n",
            "Epoch = 10 : Training Loss = 0.00804174318909645, Training Accuracy = 99.79, Test Accuracy = 98.20\n",
            "Epoch = 11 : Training Loss = 0.01141039002686739, Training Accuracy = 99.81, Test Accuracy = 97.87\n",
            "Epoch = 12 : Training Loss = 0.0692966878414154, Training Accuracy = 99.78, Test Accuracy = 97.70\n"
          ]
        }
      ],
      "source": [
        "# Build fully connected student.\n",
        "fc_model_no_distillation = tf.keras.Sequential([\n",
        "\n",
        "layers.Flatten(),\n",
        "layers.Dense(784, activation='relu'),\n",
        "layers.Dense(784, activation='relu'),\n",
        "layers.Dense(10)\n",
        "])\n",
        "# your code start from here for step 7\n",
        "\n",
        "fc_model_no_distillation.build(input_shape=(256,28,28,1))\n",
        "fc_model_no_distillation.summary()\n",
        "\n",
        "#@test {\"output\": \"ignore\"}\n",
        "\n",
        "def compute_plain_cross_entropy_loss(images, labels):\n",
        "  \"\"\"Compute plain loss for given images and labels.\n",
        "\n",
        "  For fair comparison and convenience, this function also performs a\n",
        "  LogSumExp over subclasses, but does not perform subclass distillation.\n",
        "\n",
        "  Args:\n",
        "    images: Tensor representing a batch of images.\n",
        "    labels: Tensor representing a batch of labels.\n",
        "\n",
        "  Returns:\n",
        "    Scalar loss Tensor.\n",
        "  \"\"\"\n",
        "  # your code start from here for step 7\n",
        "\n",
        "  student_class_logits = fc_model_no_distillation(images, training=True)\n",
        "  cross_entropy_loss =  tf.reduce_mean(tf.nn.softmax_cross_entropy_with_logits(labels, student_class_logits))\n",
        "  \n",
        "  return cross_entropy_loss\n",
        "\n",
        "ALPHA = 0.5\n",
        "DISTILLATION_TEMPERATURE = 64\n",
        "\n",
        "student_train_acc, student_test_acc =  train_and_evaluate(fc_model_no_distillation, alpha = ALPHA, temperature= 64, epochs = NUM_EPOCHS, l = \"student\")"
      ]
    },
    {
      "cell_type": "code",
      "execution_count": 21,
      "metadata": {},
      "outputs": [
        {
          "data": {
            "image/png": "[encoded data removed]",
            "text/plain": [
              "<Figure size 720x720 with 1 Axes>"
            ]
          },
          "metadata": {
            "needs_background": "light"
          },
          "output_type": "display_data"
        }
      ],
      "source": [
        "plt.figure(figsize = (10,10))\n",
        "plt.title(\"Test Accuracies for Student Model\")\n",
        "plt.plot(range(1, NUM_EPOCHS + 1), student_test_acc_kl, label = \"With KL\")\n",
        "plt.plot(range(1, NUM_EPOCHS + 1), student_test_acc, label = \"Without KL\")\n",
        "plt.xlabel(\"Epochs\")\n",
        "plt.ylabel(\"Accuracy\")\n",
        "plt.legend(loc = 'best')\n",
        "plt.show()"
      ]
    },
    {
      "cell_type": "markdown",
      "metadata": {
        "id": "yq3JTpQ4RuhR"
      },
      "source": [
        "# Comparing the teacher and student model (number of of parameters and FLOPs) "
      ]
    },
    {
      "cell_type": "code",
      "execution_count": 26,
      "metadata": {
        "id": "4V8GB2yRRuxF"
      },
      "outputs": [
        {
          "name": "stdout",
          "output_type": "stream",
          "text": [
            "\n",
            " TEACHER MODEL \n",
            "Model: \"sequential\"\n",
            "_________________________________________________________________\n",
            " Layer (type)                Output Shape              Param #   \n",
            "=================================================================\n",
            " conv2d (Conv2D)             (None, 26, 26, 32)        320       \n",
            "                                                                 \n",
            " max_pooling2d (MaxPooling2  (None, 25, 25, 32)        0         \n",
            " D)                                                              \n",
            "                                                                 \n",
            " conv2d_1 (Conv2D)           (None, 23, 23, 64)        18496     \n",
            "                                                                 \n",
            " flatten (Flatten)           (None, 33856)             0         \n",
            "                                                                 \n",
            " dropout (Dropout)           (None, 33856)             0         \n",
            "                                                                 \n",
            " dense (Dense)               (None, 128)               4333696   \n",
            "                                                                 \n",
            " dropout_1 (Dropout)         (None, 128)               0         \n",
            "                                                                 \n",
            " dense_1 (Dense)             (None, 10)                1290      \n",
            "                                                                 \n",
            "=================================================================\n",
            "Total params: 4353802 (16.61 MB)\n",
            "Trainable params: 4353802 (16.61 MB)\n",
            "Non-trainable params: 0 (0.00 Byte)\n",
            "_________________________________________________________________\n",
            "\n",
            " STUDENT MODEL \n",
            "Model: \"sequential_1\"\n",
            "_________________________________________________________________\n",
            " Layer (type)                Output Shape              Param #   \n",
            "=================================================================\n",
            " flatten_1 (Flatten)         (256, 784)                0         \n",
            "                                                                 \n",
            " dense_2 (Dense)             (256, 784)                615440    \n",
            "                                                                 \n",
            " dense_3 (Dense)             (256, 784)                615440    \n",
            "                                                                 \n",
            " dense_4 (Dense)             (256, 10)                 7850      \n",
            "                                                                 \n",
            "=================================================================\n",
            "Total params: 1238730 (4.73 MB)\n",
            "Trainable params: 1238730 (4.73 MB)\n",
            "Non-trainable params: 0 (0.00 Byte)\n",
            "_________________________________________________________________\n"
          ]
        }
      ],
      "source": [
        "# your code start from here for step 8\n",
        "# from keras_flops import get_flops\n",
        "\n",
        "# teacher_flops = get_flops(cnn_model, batch_size=1)\n",
        "# print(f\"FLOPS for teacher model: {teacher_flops / 10 ** 9:.03} G\")\n",
        "\n",
        "# # flops = get_flops(fc_model, batch_size=1)\n",
        "# # print(f\"FLOPS for student model: {flops / 10 ** 9:.03} G\")\n",
        "\n",
        "print(\"\\n TEACHER MODEL \")\n",
        "cnn_model.summary()\n",
        "\n",
        "print(\"\\n STUDENT MODEL \")\n",
        "fc_model.summary()"
      ]
    },
    {
      "cell_type": "markdown",
      "metadata": {
        "id": "KjwJ5oziRvRn"
      },
      "source": [
        "# Implementing the state-of-the-art KD algorithm"
      ]
    },
    {
      "cell_type": "code",
      "execution_count": 22,
      "metadata": {
        "id": "q10lybAFRvZt"
      },
      "outputs": [],
      "source": [
        "# your code start from here for step 12\n",
        "ta_model = tf.keras.Sequential([\n",
        "    \n",
        "layers.Conv2D(32, (3, 3), strides = (1,1), activation='relu', input_shape=(28, 28, 1)),\n",
        "layers.MaxPooling2D((2, 2), strides = (1,1)),\n",
        "layers.Flatten(),\n",
        "layers.Dropout(rate = 0.5),\n",
        "layers.Dense(128, activation='relu'),\n",
        "layers.Dropout(rate = 0.5),\n",
        "layers.Dense(10)\n",
        "])"
      ]
    },
    {
      "cell_type": "code",
      "execution_count": 23,
      "metadata": {},
      "outputs": [],
      "source": [
        "def compute_ta_loss(images, labels, distillation_temperature = DISTILLATION_TEMPERATURE, alpha = ALPHA):\n",
        "  \"\"\"Compute subclass knowledge distillation student loss for given images\n",
        "     and labels.\n",
        "\n",
        "  Args:\n",
        "    images: Tensor representing a batch of images.\n",
        "    labels: Tensor representing a batch of labels.\n",
        "\n",
        "  Returns:\n",
        "    Scalar loss Tensor.\n",
        "  \"\"\"\n",
        "  ta_class_logits = ta_model(images, training=True)\n",
        "\n",
        "  # Compute subclass distillation loss between student subclass logits and\n",
        "  # softened teacher subclass targets probabilities.\n",
        "\n",
        "  # your code start from here for step 3\n",
        "\n",
        "  teacher_class_logits = cnn_model(images, training=False)\n",
        "  distillation_loss_value = distillation_loss(teacher_logits = teacher_class_logits, student_logits = ta_class_logits, temperature = distillation_temperature)\n",
        "\n",
        "  # print(\"distillation_loss = \", distillation_loss_value)  \n",
        "  # Compute cross-entropy loss with hard targets.\n",
        "\n",
        "  # your code start from here for step 3\n",
        "\n",
        "  cross_entropy_loss_value = tf.reduce_mean(tf.nn.softmax_cross_entropy_with_logits(labels, ta_class_logits))\n",
        "  # print(\"ce loss = \", cross_entropy_loss_value)\n",
        "  # cross_entropy_loss_value = cross_entropy_loss_value(labels, student_subclass_logits)\n",
        "\n",
        "  # return alpha * (distillation_loss_value + cross_entropy_loss_value)\n",
        "  return alpha * cross_entropy_loss_value + distillation_loss_value"
      ]
    },
    {
      "cell_type": "code",
      "execution_count": 24,
      "metadata": {},
      "outputs": [],
      "source": [
        "def compute_student_loss(images, labels, distillation_temperature = DISTILLATION_TEMPERATURE, alpha = ALPHA):\n",
        "  \"\"\"Compute subclass knowledge distillation student loss for given images\n",
        "     and labels.\n",
        "\n",
        "  Args:\n",
        "    images: Tensor representing a batch of images.\n",
        "    labels: Tensor representing a batch of labels.\n",
        "\n",
        "  Returns:\n",
        "    Scalar loss Tensor.\n",
        "  \"\"\"\n",
        "  student_class_logits = fc_model(images, training=True)\n",
        "  # print(\"student_subclass_logits = \", student_subclass_logits)\n",
        "\n",
        "  # Compute subclass distillation loss between student subclass logits and\n",
        "  # softened teacher subclass targets probabilities.\n",
        "\n",
        "  # your code start from here for step 3\n",
        "\n",
        "  ta_class_logits = ta_model(images, training=False)\n",
        "  distillation_loss_value = distillation_loss(teacher_logits = ta_class_logits, student_logits = student_class_logits, temperature = distillation_temperature)\n",
        "\n",
        "  # print(\"distillation_loss = \", distillation_loss_value)  \n",
        "  # Compute cross-entropy loss with hard targets.\n",
        "\n",
        "  # your code start from here for step 3\n",
        "\n",
        "  cross_entropy_loss_value = tf.reduce_mean(tf.nn.softmax_cross_entropy_with_logits(labels, student_class_logits))\n",
        "  # print(\"ce loss = \", cross_entropy_loss_value)\n",
        "  # cross_entropy_loss_value = cross_entropy_loss_value(labels, student_subclass_logits)\n",
        "\n",
        "  # return alpha * (distillation_loss_value + cross_entropy_loss_value)\n",
        "  return alpha * cross_entropy_loss_value + distillation_loss_value"
      ]
    },
    {
      "cell_type": "code",
      "execution_count": 25,
      "metadata": {},
      "outputs": [],
      "source": [
        "@tf.function\n",
        "def compute_num_correct(model, images, labels):\n",
        "  \"\"\"Compute number of correctly classified images in a batch.\n",
        "\n",
        "  Args:\n",
        "    model: Instance of tf.keras.Model.\n",
        "    images: Tensor representing a batch of images.\n",
        "    labels: Tensor representing a batch of labels.\n",
        "\n",
        "  Returns:\n",
        "    Number of correctly classified images.\n",
        "  \"\"\"\n",
        "  class_logits = model(images, training=False)\n",
        "  return tf.reduce_sum(\n",
        "      tf.cast(tf.math.equal(tf.argmax(class_logits, -1), tf.argmax(labels, -1)),\n",
        "              tf.float32)), tf.argmax(class_logits, -1), tf.argmax(labels, -1)\n",
        "\n",
        "\n",
        "def train_and_evaluate(model, alpha, temperature, epochs, l):\n",
        "  \"\"\"Perform training and evaluation for a given model.\n",
        "\n",
        "  Args:\n",
        "    model: Instance of tf.keras.Model.\n",
        "    compute_loss_fn: A function that computes the training loss given the\n",
        "      images, and labels.\n",
        "  \"\"\"\n",
        "\n",
        "  # your code start from here for step 4\n",
        "  optimizer = tf.keras.optimizers.Adam(learning_rate = 0.001)\n",
        "  train_acc, test_acc = [], []\n",
        "  print(\"l = \", l)\n",
        "\n",
        "  for epoch in range(1, epochs + 1):\n",
        "    # Run training.\n",
        "  \n",
        "    num_correct_train = 0\n",
        "    num_total_train = builder.info.splits['train'].num_examples\n",
        "    for images, labels in mnist_train:\n",
        "      with tf.GradientTape() as tape:\n",
        "         # your code start from here for step 4\n",
        "        if l == \"teacher\":\n",
        "          loss_value = compute_teacher_loss(images, labels)\n",
        "        elif l == \"student KL\":\n",
        "          loss_value = compute_student_loss(images, labels, distillation_temperature = temperature, alpha = alpha)\n",
        "        elif l == \"student\":\n",
        "          loss_value = compute_plain_cross_entropy_loss(images, labels)\n",
        "        elif l == \"TA\":\n",
        "          loss_value = compute_ta_loss(images, labels, distillation_temperature = temperature, alpha = alpha)\n",
        "\n",
        "\n",
        "      grads = tape.gradient(loss_value, model.trainable_variables)\n",
        "      optimizer.apply_gradients(zip(grads, model.trainable_variables))\n",
        "      num_correct_train += compute_num_correct(model, images, labels)[0]\n",
        "    \n",
        "    # Run evaluation for test set\n",
        "    num_correct_test = 0\n",
        "    num_total_test = builder.info.splits['test'].num_examples\n",
        "    for images, labels in mnist_test:\n",
        "      # your code start from here for step 4\n",
        "      num_correct_test += compute_num_correct(model, images, labels)[0]\n",
        "    \n",
        "    train_ac = num_correct_train / num_total_train * 100\n",
        "    test_ac = num_correct_test / num_total_test * 100\n",
        "    train_acc.append(train_ac)\n",
        "    test_acc.append(test_ac)\n",
        "    # print(\"Epoch = {} : Training Loss = {}, Training Accuracy = {:.2f}, Test Accuracy = {:.2f}\".format(epoch, loss_value, num_correct_train / num_total_train * 100, num_correct_test / num_total_test * 100 ))\n",
        "    print(\"Epoch = {} : Training Loss = {}, Training Accuracy = {:.2f}, Test Accuracy = {:.2f}\".format(epoch, loss_value, train_ac, test_ac ))\n",
        "\n",
        "  \n",
        "  return train_acc, test_acc"
      ]
    },
    {
      "cell_type": "markdown",
      "metadata": {},
      "source": [
        "### Training Teacher"
      ]
    },
    {
      "cell_type": "code",
      "execution_count": 26,
      "metadata": {},
      "outputs": [
        {
          "name": "stdout",
          "output_type": "stream",
          "text": [
            "l =  teacher\n",
            "Epoch = 1 : Training Loss = 0.013199127279222012, Training Accuracy = 99.70, Test Accuracy = 99.26\n",
            "Epoch = 2 : Training Loss = 0.023301146924495697, Training Accuracy = 99.75, Test Accuracy = 99.05\n",
            "Epoch = 3 : Training Loss = 0.024389654397964478, Training Accuracy = 99.76, Test Accuracy = 99.30\n",
            "Epoch = 4 : Training Loss = 0.0050416928716003895, Training Accuracy = 99.78, Test Accuracy = 99.25\n",
            "Epoch = 5 : Training Loss = 0.027327511459589005, Training Accuracy = 99.77, Test Accuracy = 99.11\n",
            "Epoch = 6 : Training Loss = 0.014909903518855572, Training Accuracy = 99.77, Test Accuracy = 99.35\n",
            "Epoch = 7 : Training Loss = 0.04043469578027725, Training Accuracy = 99.80, Test Accuracy = 99.27\n",
            "Epoch = 8 : Training Loss = 0.020538894459605217, Training Accuracy = 99.81, Test Accuracy = 99.24\n",
            "Epoch = 9 : Training Loss = 0.03658166527748108, Training Accuracy = 99.82, Test Accuracy = 99.12\n",
            "Epoch = 10 : Training Loss = 0.00931093841791153, Training Accuracy = 99.82, Test Accuracy = 99.31\n",
            "Epoch = 11 : Training Loss = 0.012079738080501556, Training Accuracy = 99.82, Test Accuracy = 99.29\n",
            "Epoch = 12 : Training Loss = 0.0014105422887951136, Training Accuracy = 99.82, Test Accuracy = 99.15\n"
          ]
        }
      ],
      "source": [
        "teacher_train_acc, teacher_test_acc =  train_and_evaluate(cnn_model, alpha = ALPHA, temperature= 64, epochs = NUM_EPOCHS, l = \"teacher\")"
      ]
    },
    {
      "cell_type": "markdown",
      "metadata": {},
      "source": [
        "### Training TA"
      ]
    },
    {
      "cell_type": "code",
      "execution_count": 27,
      "metadata": {},
      "outputs": [
        {
          "name": "stdout",
          "output_type": "stream",
          "text": [
            "l =  TA\n",
            "Epoch = 1 : Training Loss = 9337.958984375, Training Accuracy = 89.84, Test Accuracy = 96.20\n",
            "Epoch = 2 : Training Loss = 9338.4013671875, Training Accuracy = 96.64, Test Accuracy = 97.44\n",
            "Epoch = 3 : Training Loss = 9340.1982421875, Training Accuracy = 97.50, Test Accuracy = 97.74\n",
            "Epoch = 4 : Training Loss = 9340.5751953125, Training Accuracy = 97.85, Test Accuracy = 98.00\n",
            "Epoch = 5 : Training Loss = 9337.29296875, Training Accuracy = 98.09, Test Accuracy = 98.08\n",
            "Epoch = 6 : Training Loss = 9335.89453125, Training Accuracy = 98.20, Test Accuracy = 98.12\n",
            "Epoch = 7 : Training Loss = 9342.00390625, Training Accuracy = 98.34, Test Accuracy = 98.25\n",
            "Epoch = 8 : Training Loss = 9334.6689453125, Training Accuracy = 98.43, Test Accuracy = 98.26\n",
            "Epoch = 9 : Training Loss = 9335.6162109375, Training Accuracy = 98.55, Test Accuracy = 98.32\n",
            "Epoch = 10 : Training Loss = 9338.9345703125, Training Accuracy = 98.57, Test Accuracy = 98.39\n",
            "Epoch = 11 : Training Loss = 9335.9970703125, Training Accuracy = 98.63, Test Accuracy = 98.43\n",
            "Epoch = 12 : Training Loss = 9332.0654296875, Training Accuracy = 98.68, Test Accuracy = 98.43\n"
          ]
        }
      ],
      "source": [
        "ta_train_acc_kd, ta_test_acc_kd =  train_and_evaluate(ta_model, alpha = ALPHA, temperature= 64, epochs = NUM_EPOCHS, l = \"TA\")"
      ]
    },
    {
      "cell_type": "markdown",
      "metadata": {},
      "source": [
        "### Training Student"
      ]
    },
    {
      "cell_type": "code",
      "execution_count": 28,
      "metadata": {},
      "outputs": [
        {
          "name": "stdout",
          "output_type": "stream",
          "text": [
            "l =  student KL\n",
            "Epoch = 1 : Training Loss = 9345.86328125, Training Accuracy = 99.30, Test Accuracy = 98.47\n",
            "Epoch = 2 : Training Loss = 9356.283203125, Training Accuracy = 99.20, Test Accuracy = 98.46\n",
            "Epoch = 3 : Training Loss = 9350.654296875, Training Accuracy = 99.21, Test Accuracy = 98.39\n",
            "Epoch = 4 : Training Loss = 9349.83203125, Training Accuracy = 99.22, Test Accuracy = 98.37\n",
            "Epoch = 5 : Training Loss = 9346.203125, Training Accuracy = 99.20, Test Accuracy = 98.32\n",
            "Epoch = 6 : Training Loss = 9357.3916015625, Training Accuracy = 99.24, Test Accuracy = 98.32\n",
            "Epoch = 7 : Training Loss = 9350.7861328125, Training Accuracy = 99.22, Test Accuracy = 98.29\n",
            "Epoch = 8 : Training Loss = 9352.38671875, Training Accuracy = 99.25, Test Accuracy = 98.37\n",
            "Epoch = 9 : Training Loss = 9341.6005859375, Training Accuracy = 99.27, Test Accuracy = 98.38\n",
            "Epoch = 10 : Training Loss = 9348.1767578125, Training Accuracy = 99.27, Test Accuracy = 98.41\n",
            "Epoch = 11 : Training Loss = 9346.4580078125, Training Accuracy = 99.27, Test Accuracy = 98.36\n",
            "Epoch = 12 : Training Loss = 9345.40625, Training Accuracy = 99.29, Test Accuracy = 98.42\n"
          ]
        }
      ],
      "source": [
        "student_train_acc_kd, student_test_acc_kd =  train_and_evaluate(fc_model, alpha = ALPHA, temperature= 64, epochs = NUM_EPOCHS, l = \"student KL\")"
      ]
    },
    {
      "cell_type": "code",
      "execution_count": 29,
      "metadata": {},
      "outputs": [
        {
          "data": {
            "image/png": "[encoded data removed]",
            "text/plain": [
              "<Figure size 720x720 with 1 Axes>"
            ]
          },
          "metadata": {
            "needs_background": "light"
          },
          "output_type": "display_data"
        }
      ],
      "source": [
        "plt.figure(figsize = (10,10))\n",
        "plt.title(\"Test Accuracies for Student Model\")\n",
        "plt.plot(range(1, NUM_EPOCHS + 1), student_test_acc_kl, label = \"Without TA\")\n",
        "plt.plot(range(1, NUM_EPOCHS + 1), student_test_acc_kd, label = \"With TA\")\n",
        "plt.xlabel(\"Epochs\")\n",
        "plt.ylabel(\"Accuracy\")\n",
        "plt.legend(loc = 'best')\n",
        "plt.show()"
      ]
    },
    {
      "cell_type": "markdown",
      "metadata": {
        "id": "6dsOmtqdieIC"
      },
      "source": [
        "# XAI method to explain models"
      ]
    },
    {
      "cell_type": "code",
      "execution_count": 9,
      "metadata": {
        "id": "X0IMIFW8ilPO"
      },
      "outputs": [],
      "source": [
        "# your code start from here for step 13\n",
        "\n",
        "from gradcam import *\n",
        "import cv2\n",
        "\n"
      ]
    },
    {
      "cell_type": "code",
      "execution_count": null,
      "metadata": {},
      "outputs": [],
      "source": [
        "# XAI on the teacher model.\n",
        "for image, label in mnist_test:\n",
        "  cam = grad_cam(cnn_model, np.expand_dims(image[0].numpy().squeeze(1), axis=0), 'conv2d')\n",
        "  # print(cam.shape)\n",
        "  cam = (cam*255).astype(\"uint8\")\n",
        "  # print(cam.shape)\n",
        "  cam = cv2.applyColorMap(cam, cv2.COLORMAP_JET)\n",
        "  # print(cam.shape)\n",
        "  # cam = np.repeat(cam, 2, axis=0)\n",
        "  # # print(cam.shape)\n",
        "  # cam = np.repeat(cam, 2, axis=1)\n",
        "  # print(cam.shape)\n",
        "  img = cam + image[0]\n",
        "  img = np.clip(img,0,255).astype(\"uint8\")\n",
        "  # img = cv2.cvtColor(img, cv2.COLOR_BGR2RGB)\n",
        "  fig,ax = plt.subplots(1,2,figsize=(10,10))\n",
        "  ax[0].imshow(image[0])\n",
        "  ax[1].imshow(img)\n",
        "  ax[0].axis('off')\n",
        "  ax[1].axis('off')\n",
        "  break"
      ]
    },
    {
      "cell_type": "code",
      "execution_count": null,
      "metadata": {},
      "outputs": [],
      "source": [
        "# XAI on the distilled model.\n",
        "for image, label in mnist_test:\n",
        "  cam = grad_cam(fc_model, np.expand_dims(image[0].numpy(), axis=0), 'dense_2')\n",
        "  #print(cam.shape)\n",
        "  cam = (cam*255).astype(\"uint8\")\n",
        "  cam = cv2.applyColorMap(cam, cv2.COLORMAP_JET)\n",
        "  img = cam + image[0].numpy()\n",
        "  img = np.clip(img,0,255).astype(\"uint8\")\n",
        "  img = cv2.cvtColor(img, cv2.COLOR_BGR2RGB)\n",
        "  fig,ax = plt.subplots(1,2,figsize=(10,10))\n",
        "  ax[0].imshow(image[0].numpy().reshape(28,28))\n",
        "  ax[1].imshow(img)\n",
        "  ax[0].axis('off')\n",
        "  ax[1].axis('off')\n",
        "  break"
      ]
    }
  ],
  "metadata": {
    "colab": {
      "provenance": []
    },
    "kernelspec": {
      "display_name": "Python 3",
      "name": "python3"
    },
    "language_info": {
      "codemirror_mode": {
        "name": "ipython",
        "version": 3
      },
      "file_extension": ".py",
      "mimetype": "text/x-python",
      "name": "python",
      "nbconvert_exporter": "python",
      "pygments_lexer": "ipython3",
      "version": "3.9.1"
    }
  },
  "nbformat": 4,
  "nbformat_minor": 0
}
